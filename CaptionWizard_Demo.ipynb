{
  "cells": [
    {
      "cell_type": "code",
      "source": [
        "img_p = \"/content/drive/MyDrive/ML Caption Craft/Likable Images/1140915905451974331.jpg\""
      ],
      "metadata": {
        "id": "EEHQr6epF5AN"
      },
      "execution_count": 1,
      "outputs": []
    },
    {
      "cell_type": "markdown",
      "metadata": {
        "id": "GfFG0-hypMrE"
      },
      "source": [
        "### libs"
      ]
    },
    {
      "cell_type": "code",
      "source": [
        "from google.colab import drive\n",
        "drive.mount('/content/drive')"
      ],
      "metadata": {
        "colab": {
          "base_uri": "https://localhost:8080/"
        },
        "id": "9f_lAmFbU7rb",
        "outputId": "2e76f500-2a73-40f4-8da8-3a6e90cb1903"
      },
      "execution_count": 2,
      "outputs": [
        {
          "output_type": "stream",
          "name": "stdout",
          "text": [
            "Drive already mounted at /content/drive; to attempt to forcibly remount, call drive.mount(\"/content/drive\", force_remount=True).\n"
          ]
        }
      ]
    },
    {
      "cell_type": "code",
      "execution_count": 3,
      "metadata": {
        "colab": {
          "base_uri": "https://localhost:8080/"
        },
        "id": "Scno229RI7jK",
        "outputId": "975eef01-e493-4dfa-9fe2-0c5bbef405f7"
      },
      "outputs": [
        {
          "output_type": "stream",
          "name": "stderr",
          "text": [
            "[nltk_data] Downloading package wordnet to /root/nltk_data...\n",
            "[nltk_data]   Package wordnet is already up-to-date!\n"
          ]
        }
      ],
      "source": [
        "import pandas as pd\n",
        "import numpy as np\n",
        "import nltk\n",
        "nltk.download('wordnet')\n",
        "import re\n",
        "\n",
        "import string\n",
        "from bs4 import BeautifulSoup\n",
        "# import requests\n",
        "# from collections import Counter\n",
        "# from num2words import num2words\n",
        "from wordcloud import WordCloud, ImageColorGenerator\n",
        "from nltk.tokenize import word_tokenize\n",
        "from tqdm.auto import tqdm\n",
        "tqdm.pandas()\n",
        "import matplotlib.pyplot as plt\n",
        "import seaborn as sns\n",
        "%matplotlib inline\n",
        "from plotly import graph_objs as go\n",
        "import plotly.express as px\n",
        "import plotly.figure_factory as ff\n",
        "# import spacy\n",
        "import torch.nn as nn\n",
        "import torch.nn.functional as F\n",
        "import torch\n",
        "from torch.utils.data import DataLoader, Dataset\n",
        "import torchvision\n",
        "import torchvision.transforms as transforms\n",
        "from torch.utils.data.sampler import SubsetRandomSampler\n",
        "\n",
        "import nltk\n",
        "import warnings\n",
        "warnings.filterwarnings(\"ignore\")\n",
        "\n",
        "# from nltk.corpus import stopwords\n",
        "# from google.colab import drive\n",
        "# drive.mount('/content/drive')\n",
        "\n",
        "pd.set_option('max_colwidth', 99999)"
      ]
    },
    {
      "cell_type": "code",
      "execution_count": 4,
      "metadata": {
        "id": "yLuNdh2oZ_iv"
      },
      "outputs": [],
      "source": [
        "import os\n",
        "# import datasets\n",
        "import numpy as np\n",
        "import pandas as pd\n",
        "from PIL import Image\n",
        "from pathlib import Path\n",
        "from tqdm.auto import tqdm\n",
        "import multiprocessing as mp\n",
        "import matplotlib.pyplot as plt\n",
        "from sklearn.model_selection import train_test_split\n",
        "import torch\n",
        "import torch.nn as nn\n",
        "import torch.nn.functional as F\n",
        "from torchvision import io, transforms\n",
        "from torch.utils.data import Dataset, DataLoader, random_split\n",
        "from transformers import Seq2SeqTrainer, Seq2SeqTrainingArguments\n",
        "from transformers import VisionEncoderDecoderModel, ViTFeatureExtractor, ViTImageProcessor\n",
        "from transformers import AutoTokenizer ,  GPT2Config , default_data_collator"
      ]
    },
    {
      "cell_type": "markdown",
      "source": [
        "# Predictions"
      ],
      "metadata": {
        "id": "ViJDTXKmTri4"
      }
    },
    {
      "cell_type": "code",
      "source": [
        "if torch.cuda.is_available():\n",
        "    device = torch.device(\"cuda\")\n",
        "    print('There are %d GPU(s) available.' % torch.cuda.device_count())\n",
        "    print('We will use the GPU:', torch.cuda.get_device_name(0))\n",
        "else:\n",
        "    print('No GPU available, using the CPU instead.')\n",
        "    device = torch.device(\"cpu\")"
      ],
      "metadata": {
        "colab": {
          "base_uri": "https://localhost:8080/"
        },
        "id": "x2ZrP_W3Eg7R",
        "outputId": "6bb23104-c269-4c25-f336-7330d05558fb"
      },
      "execution_count": 5,
      "outputs": [
        {
          "output_type": "stream",
          "name": "stdout",
          "text": [
            "No GPU available, using the CPU instead.\n"
          ]
        }
      ]
    },
    {
      "cell_type": "code",
      "source": [
        "def build_inputs_with_special_tokens(self, token_ids_0, token_ids_1=None):\n",
        "    outputs = [self.bos_token_id] + token_ids_0 + [self.eos_token_id]\n",
        "    return outputs"
      ],
      "metadata": {
        "id": "Iw2DmEZZEQn2"
      },
      "execution_count": 6,
      "outputs": []
    },
    {
      "cell_type": "code",
      "source": [
        "model_directory = \"/content/drive/MyDrive/ML Caption Craft/Image_Caption_Generator\"\n",
        "# tokenizer = AutoTokenizer.from_pretrained(model_directory)\n",
        "# Load the saved model\n",
        "model = VisionEncoderDecoderModel.from_pretrained(model_directory)\n",
        "\n",
        "\n",
        "\n",
        "AutoTokenizer.build_inputs_with_special_tokens = build_inputs_with_special_tokens\n",
        "os.environ[\"WANDB_DISABLED\"] = \"true\"\n",
        "# configuration of training\n",
        "class config :\n",
        "    TRAIN_BATCH_SIZE = 10\n",
        "    VAL_BATCH_SIZE = 10\n",
        "    VAL_EPOCHS = 1\n",
        "    LR = 5e-5\n",
        "    SEED = 42\n",
        "    MAX_LEN = 128\n",
        "    SUMMARY_LEN = 20\n",
        "    WEIGHT_DECAY = 0.01\n",
        "    MEAN = (0.485, 0.456, 0.406)\n",
        "    STD = (0.229, 0.224, 0.225)\n",
        "    TRAIN_PCT = 0.95\n",
        "    NUM_WORKERS = mp.cpu_count()\n",
        "    EPOCHS = 3\n",
        "    IMG_SIZE = (224, 224)\n",
        "    LABEL_MASK = -100\n",
        "    TOP_K = 1000\n",
        "    TOP_P = 0.95\n",
        "\n",
        "# rouge evaluation metric\n",
        "# rouge = datasets.load_metric(\"rouge\")\n",
        "feature_extractor = ViTImageProcessor.from_pretrained(\"nlpconnect/vit-gpt2-image-captioning\")\n",
        "tokenizer = AutoTokenizer.from_pretrained(\"nlpconnect/vit-gpt2-image-captioning\")\n",
        "tokenizer.pad_token = tokenizer.unk_token\n"
      ],
      "metadata": {
        "id": "mU7J-pV59AXl"
      },
      "execution_count": 7,
      "outputs": []
    },
    {
      "cell_type": "code",
      "source": [
        "model.to(device)"
      ],
      "metadata": {
        "id": "MFdQ-Qa_YLY1",
        "colab": {
          "base_uri": "https://localhost:8080/"
        },
        "outputId": "deffe394-8f23-46d3-8b62-3585154efc1e"
      },
      "execution_count": 8,
      "outputs": [
        {
          "output_type": "execute_result",
          "data": {
            "text/plain": [
              "VisionEncoderDecoderModel(\n",
              "  (encoder): ViTModel(\n",
              "    (embeddings): ViTEmbeddings(\n",
              "      (patch_embeddings): ViTPatchEmbeddings(\n",
              "        (projection): Conv2d(3, 768, kernel_size=(16, 16), stride=(16, 16))\n",
              "      )\n",
              "      (dropout): Dropout(p=0.0, inplace=False)\n",
              "    )\n",
              "    (encoder): ViTEncoder(\n",
              "      (layer): ModuleList(\n",
              "        (0-11): 12 x ViTLayer(\n",
              "          (attention): ViTAttention(\n",
              "            (attention): ViTSelfAttention(\n",
              "              (query): Linear(in_features=768, out_features=768, bias=True)\n",
              "              (key): Linear(in_features=768, out_features=768, bias=True)\n",
              "              (value): Linear(in_features=768, out_features=768, bias=True)\n",
              "              (dropout): Dropout(p=0.0, inplace=False)\n",
              "            )\n",
              "            (output): ViTSelfOutput(\n",
              "              (dense): Linear(in_features=768, out_features=768, bias=True)\n",
              "              (dropout): Dropout(p=0.0, inplace=False)\n",
              "            )\n",
              "          )\n",
              "          (intermediate): ViTIntermediate(\n",
              "            (dense): Linear(in_features=768, out_features=3072, bias=True)\n",
              "            (intermediate_act_fn): GELUActivation()\n",
              "          )\n",
              "          (output): ViTOutput(\n",
              "            (dense): Linear(in_features=3072, out_features=768, bias=True)\n",
              "            (dropout): Dropout(p=0.0, inplace=False)\n",
              "          )\n",
              "          (layernorm_before): LayerNorm((768,), eps=1e-12, elementwise_affine=True)\n",
              "          (layernorm_after): LayerNorm((768,), eps=1e-12, elementwise_affine=True)\n",
              "        )\n",
              "      )\n",
              "    )\n",
              "    (layernorm): LayerNorm((768,), eps=1e-12, elementwise_affine=True)\n",
              "    (pooler): ViTPooler(\n",
              "      (dense): Linear(in_features=768, out_features=768, bias=True)\n",
              "      (activation): Tanh()\n",
              "    )\n",
              "  )\n",
              "  (decoder): GPT2LMHeadModel(\n",
              "    (transformer): GPT2Model(\n",
              "      (wte): Embedding(50257, 768)\n",
              "      (wpe): Embedding(1024, 768)\n",
              "      (drop): Dropout(p=0.1, inplace=False)\n",
              "      (h): ModuleList(\n",
              "        (0-11): 12 x GPT2Block(\n",
              "          (ln_1): LayerNorm((768,), eps=1e-05, elementwise_affine=True)\n",
              "          (attn): GPT2Attention(\n",
              "            (c_attn): Conv1D()\n",
              "            (c_proj): Conv1D()\n",
              "            (attn_dropout): Dropout(p=0.1, inplace=False)\n",
              "            (resid_dropout): Dropout(p=0.1, inplace=False)\n",
              "          )\n",
              "          (ln_2): LayerNorm((768,), eps=1e-05, elementwise_affine=True)\n",
              "          (crossattention): GPT2Attention(\n",
              "            (c_attn): Conv1D()\n",
              "            (q_attn): Conv1D()\n",
              "            (c_proj): Conv1D()\n",
              "            (attn_dropout): Dropout(p=0.1, inplace=False)\n",
              "            (resid_dropout): Dropout(p=0.1, inplace=False)\n",
              "          )\n",
              "          (ln_cross_attn): LayerNorm((768,), eps=1e-05, elementwise_affine=True)\n",
              "          (mlp): GPT2MLP(\n",
              "            (c_fc): Conv1D()\n",
              "            (c_proj): Conv1D()\n",
              "            (act): NewGELUActivation()\n",
              "            (dropout): Dropout(p=0.1, inplace=False)\n",
              "          )\n",
              "        )\n",
              "      )\n",
              "      (ln_f): LayerNorm((768,), eps=1e-05, elementwise_affine=True)\n",
              "    )\n",
              "    (lm_head): Linear(in_features=768, out_features=50257, bias=False)\n",
              "  )\n",
              ")"
            ]
          },
          "metadata": {},
          "execution_count": 8
        }
      ]
    },
    {
      "cell_type": "code",
      "source": [
        "# i = 17000\n",
        "# caption = likable_data.iloc[i].caption\n",
        "# preprocessed_captions = likable_data.iloc[i].preprocessed_captions\n",
        "# img_p = likable_data.iloc[i].img_p"
      ],
      "metadata": {
        "id": "1xfhMtQDPuCM"
      },
      "execution_count": 9,
      "outputs": []
    },
    {
      "cell_type": "code",
      "source": [
        "# root_dir= \"/content/drive/MyDrive/ML Caption Craft/Likable Images\"\n",
        "path = img_p"
      ],
      "metadata": {
        "id": "Zlt6GYSePmQB"
      },
      "execution_count": 10,
      "outputs": []
    },
    {
      "cell_type": "code",
      "source": [
        "img =  Image.open(path).convert(\"RGB\")"
      ],
      "metadata": {
        "id": "w9NyXN-xMjDL"
      },
      "execution_count": 11,
      "outputs": []
    },
    {
      "cell_type": "code",
      "execution_count": 12,
      "metadata": {
        "id": "ETfxXKmoZ4z7",
        "colab": {
          "base_uri": "https://localhost:8080/"
        },
        "outputId": "ecbfed7b-5771-42f8-e277-377cde905200"
      },
      "outputs": [
        {
          "output_type": "stream",
          "name": "stderr",
          "text": [
            "We strongly recommend passing in an `attention_mask` since your input_ids may be padded. See https://huggingface.co/docs/transformers/troubleshooting#incorrect-output-when-padding-tokens-arent-masked.\n",
            "You may ignore this warning if your `pad_token_id` (50256) is identical to the `bos_token_id` (50256), `eos_token_id` (50256), or the `sep_token_id` (None), and your input is not padded.\n"
          ]
        }
      ],
      "source": [
        "generated_caption = tokenizer.decode(model.generate(feature_extractor(img, return_tensors=\"pt\").pixel_values.to(device))[0])\n",
        "# generated_caption = tokenizer.decode(model.generate(feature_extractor(img, return_tensors=\"pt\").pixel_values)[0])"
      ]
    },
    {
      "cell_type": "code",
      "source": [
        "pred = pd.DataFrame({'pred': [generated_caption]})\n",
        "pred['pred'] = pred['pred'].str.replace('<\\|endoftext\\|>','')\n",
        "pred = pred['pred'].iloc[0].split(\"   \")"
      ],
      "metadata": {
        "id": "wNcC7t1XORUL"
      },
      "execution_count": 13,
      "outputs": []
    },
    {
      "cell_type": "code",
      "source": [
        "pred"
      ],
      "metadata": {
        "colab": {
          "base_uri": "https://localhost:8080/"
        },
        "id": "Hs6dccuuOmti",
        "outputId": "01328d4e-2ce1-44c7-97d4-9ba200890d94"
      },
      "execution_count": 14,
      "outputs": [
        {
          "output_type": "execute_result",
          "data": {
            "text/plain": [
              "['i am not sure if this is a joke or not  but i am sure it is a good thing',\n",
              " ' i am wearing the same outfit every day and it is so comfy  i have been wearing it for a while now and i am so happy with it  i hope you guys are having a great day',\n",
              " 'it is my first time wearing this outfit and i cannot wait to share it with you guys',\n",
              " 'you can shop my looks by following me on the liketoknow it app or via link in bio  it  it app to get the product details for this look and others like it  ']"
            ]
          },
          "metadata": {},
          "execution_count": 14
        }
      ]
    },
    {
      "cell_type": "markdown",
      "source": [
        "# Results"
      ],
      "metadata": {
        "id": "5qLUT9WwMktv"
      }
    },
    {
      "cell_type": "code",
      "source": [
        "print(\"Some of our generated Captions: \\n\")\n",
        "print('\\n \\n'.join(map(str, pred)))\n",
        "img"
      ],
      "metadata": {
        "colab": {
          "base_uri": "https://localhost:8080/",
          "height": 439
        },
        "id": "PS3xLmyDPafj",
        "outputId": "17f0fe07-1cac-44cb-a2f7-f3ecdd8be3c1"
      },
      "execution_count": 15,
      "outputs": [
        {
          "output_type": "stream",
          "name": "stdout",
          "text": [
            "Some of our generated Captions: \n",
            "\n",
            "i am not sure if this is a joke or not  but i am sure it is a good thing\n",
            " \n",
            " i am wearing the same outfit every day and it is so comfy  i have been wearing it for a while now and i am so happy with it  i hope you guys are having a great day\n",
            " \n",
            "it is my first time wearing this outfit and i cannot wait to share it with you guys\n",
            " \n",
            "you can shop my looks by following me on the liketoknow it app or via link in bio  it  it app to get the product details for this look and others like it  \n"
          ]
        },
        {
          "output_type": "execute_result",
          "data": {
            "text/plain": [
              "<PIL.Image.Image image mode=RGB size=287x256>"
            ],
            "image/png": "[encoded data removed]"
          },
          "metadata": {},
          "execution_count": 15
        }
      ]
    }
  ],
  "metadata": {
    "colab": {
      "provenance": []
    },
    "kernelspec": {
      "display_name": "Python 3",
      "name": "python3"
    },
    "language_info": {
      "name": "python"
    }
  },
  "nbformat": 4,
  "nbformat_minor": 0
}